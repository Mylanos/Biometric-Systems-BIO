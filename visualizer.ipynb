{
 "cells": [
  {
   "cell_type": "code",
   "execution_count": 1,
   "id": "5b32e717-c62c-42bb-a051-46f175791ed4",
   "metadata": {},
   "outputs": [],
   "source": [
    "from src.downloader import Downloader"
   ]
  },
  {
   "cell_type": "markdown",
   "id": "9fbcc1c4-8114-4eb1-8e48-31474e93e638",
   "metadata": {},
   "source": [
    "# Download all datasets\n",
    "#### Dataset 1\n",
    "[Resting state EEG data](https://dataverse.tdl.org/dataverse/txstatecogelectro): 22 subjects, 72 EEG Channels for a resting task of 8 mins with 4 mins of eyes closed and 4 mins of eyes open.[article](https://www.frontiersin.org/articles/10.3389/fnins.2017.00425)\n",
    "#### Dataset 2\n",
    "[Alpha-waves](https://zenodo.org/record/234889220): 20 subjects, 16 channels, 10s samples of two triggers (a) eyes-closed, and (b) eyes-open. The labels are alaso availabe for fatigue (from 1-10).\n",
    "#### Dataset 3\n",
    "[SPIS Resting State Dataset](https://github.com/mastaneht/SPIS-Resting-State-Dataset): 10 subjects, 64 channels, 2.5 minutes recording in each state (eyes-closed and eyes-open) prior to a 105-minute session of Sustained Attention to Response Task with fixed-sequence and varying ISIs\n"
   ]
  },
  {
   "cell_type": "markdown",
   "id": "15b77dd3-9476-4729-897f-1dc948007b96",
   "metadata": {},
   "source": [
    "# Vizualizér \n",
    "---"
   ]
  },
  {
   "cell_type": "code",
   "execution_count": 2,
   "id": "4af6ed53-566f-4869-9e03-095ade84c33a",
   "metadata": {},
   "outputs": [],
   "source": [
    "%%capture test\n",
    "downloader = Downloader()\n",
    "downloader.download()"
   ]
  },
  {
   "cell_type": "code",
   "execution_count": 3,
   "id": "3e9739b1-b60f-4eae-9fe4-4ed20566789f",
   "metadata": {},
   "outputs": [],
   "source": [
    "%matplotlib widget\n",
    "import mne\n",
    "import matplotlib.pyplot as plt\n",
    "import pandas as pd\n",
    "import numpy as np\n",
    "import ipywidgets as widgets\n",
    "from src.visualizer import Visualizer"
   ]
  },
  {
   "cell_type": "markdown",
   "id": "0ce5b4f0-192b-4b53-a0c2-977d0fbfb2a5",
   "metadata": {},
   "source": [
    "#### Vybírač sady"
   ]
  },
  {
   "cell_type": "code",
   "execution_count": 4,
   "id": "4bb6b099-8fcc-43f1-9933-610a5fbe70c2",
   "metadata": {},
   "outputs": [],
   "source": [
    "%%capture test\n",
    "from src.dataset1 import Dataset1\n",
    "from src.dataset2 import Dataset2\n",
    "from src.dataset3 import Dataset3\n",
    "dataset=Dataset2()\n",
    "visualizer=Visualizer(dataset)"
   ]
  },
  {
   "cell_type": "markdown",
   "id": "5669b00f-98c1-489d-87ca-35577626a01e",
   "metadata": {},
   "source": [
    "#### Vybírač subjektu"
   ]
  },
  {
   "cell_type": "code",
   "execution_count": 5,
   "id": "aabb2f72-81b5-45a5-98ef-ee19b0f3e3cc",
   "metadata": {},
   "outputs": [
    {
     "data": {
      "application/vnd.jupyter.widget-view+json": {
       "model_id": "70906a85bdfa444e80614472cb8eb666",
       "version_major": 2,
       "version_minor": 0
      },
      "text/plain": [
       "interactive(children=(Dropdown(description='Nahrávka:', options=('subject_00.mat', 'subject_01.mat', 'subject_…"
      ]
     },
     "metadata": {},
     "output_type": "display_data"
    }
   ],
   "source": [
    "visualizer.selector()"
   ]
  },
  {
   "cell_type": "markdown",
   "id": "855196fa-7144-4bb2-8aa6-1710f3d6a445",
   "metadata": {},
   "source": [
    "### Export souhrných infomací"
   ]
  },
  {
   "cell_type": "code",
   "execution_count": 10,
   "id": "3413847d-a2ac-4a5b-a21b-04678b80157f",
   "metadata": {},
   "outputs": [],
   "source": [
    "%%capture test\n",
    "dataset.makeReport(dataset.getRaw(0),-1,1,\"Subject 0\")"
   ]
  },
  {
   "cell_type": "code",
   "execution_count": 7,
   "id": "d66c0ea1-bcfe-40b3-9286-2e4604fc80ca",
   "metadata": {},
   "outputs": [],
   "source": [
    "%%capture test\n",
    "dataset.makeFolderReport()"
   ]
  }
 ],
 "metadata": {
  "kernelspec": {
   "display_name": "Python 3 (ipykernel)",
   "language": "python",
   "name": "python3"
  },
  "language_info": {
   "codemirror_mode": {
    "name": "ipython",
    "version": 3
   },
   "file_extension": ".py",
   "mimetype": "text/x-python",
   "name": "python",
   "nbconvert_exporter": "python",
   "pygments_lexer": "ipython3",
   "version": "3.11.0"
  }
 },
 "nbformat": 4,
 "nbformat_minor": 5
}
